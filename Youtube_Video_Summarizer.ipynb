{
  "nbformat": 4,
  "nbformat_minor": 0,
  "metadata": {
    "colab": {
      "provenance": []
    },
    "kernelspec": {
      "name": "python3",
      "display_name": "Python 3"
    },
    "language_info": {
      "name": "python"
    }
  },
  "cells": [
    {
      "cell_type": "code",
      "execution_count": null,
      "metadata": {
        "collapsed": true,
        "id": "B4SJEoPE0CQ4"
      },
      "outputs": [],
      "source": [
        "# Install youtube API to transcribe the video to text\n",
        "!pip install youtube-transcript-api"
      ]
    },
    {
      "cell_type": "code",
      "source": [
        "# Take youtube video link as input from user and extract the video id from the link\n",
        "from urllib.parse import urlparse, parse_qs\n",
        "\n",
        "def get_video_id_from_url(url):\n",
        "  # Parse the url to get the query component\n",
        "  parsed_url = urlparse(url)\n",
        "  print(f\"Parsed url: {parsed_url}\")\n",
        "  # Get all the query params as a dictionary\n",
        "  query_params_dict = parse_qs(parsed_url.query)\n",
        "  print(f\"Query Params : {query_params_dict}\")\n",
        "  # Return the value of the query param \"v\"\n",
        "  return query_params_dict.get(\"v\")[0]\n",
        "\n",
        "video_url = input(\"Enter the video url: \")\n",
        "video_id = get_video_id_from_url(video_url)\n",
        "print(f\"video id: {video_id}\")"
      ],
      "metadata": {
        "id": "pMrPxOjz4Wtl"
      },
      "execution_count": null,
      "outputs": []
    },
    {
      "cell_type": "code",
      "source": [
        "from youtube_transcript_api import YouTubeTranscriptApi"
      ],
      "metadata": {
        "id": "oGMohwVnGTIn"
      },
      "execution_count": null,
      "outputs": []
    },
    {
      "cell_type": "code",
      "source": [
        "# View all the transcripts\n",
        "transcript_list = YouTubeTranscriptApi().list(video_id)\n",
        "print(f\"Transcript list: {transcript_list}\")"
      ],
      "metadata": {
        "id": "yJc1vOR1GFd5"
      },
      "execution_count": null,
      "outputs": []
    },
    {
      "cell_type": "code",
      "source": [
        "# For each transcript, print the transcript as combined text\n",
        "for transcript in transcript_list:\n",
        "  actual_transcript = transcript.fetch()\n",
        "  combined_transcript = \" \".join(snippet.text for snippet in actual_transcript)\n",
        "  print(combined_transcript)"
      ],
      "metadata": {
        "id": "qjfWEm7wOk02"
      },
      "execution_count": null,
      "outputs": []
    },
    {
      "cell_type": "markdown",
      "source": [
        "Note the above text does not have punctuations. Use Gemini and ChatGPT to summarize the text."
      ],
      "metadata": {
        "id": "vjmJEQqZfElv"
      }
    },
    {
      "cell_type": "code",
      "source": [
        "prompt = f\"Summarize the content of this text {combined_transcript}\""
      ],
      "metadata": {
        "id": "jYjJMTg3g9Xu"
      },
      "execution_count": null,
      "outputs": []
    },
    {
      "cell_type": "code",
      "source": [
        "# Use ChatGPT api key to make request\n",
        "import openai\n",
        "from openai import OpenAI\n",
        "\n",
        "openai_key = \"\"\n",
        "\n",
        "client = OpenAI(\n",
        "    api_key=openai_key\n",
        ")\n",
        "\n",
        "response = client.responses.create(\n",
        "    model = \"gpt-4.1\",\n",
        "    input = prompt\n",
        ")\n",
        "\n",
        "print(response)"
      ],
      "metadata": {
        "id": "5D23qBr0fDrI"
      },
      "execution_count": null,
      "outputs": []
    },
    {
      "cell_type": "code",
      "source": [
        "# Use Gemini api key to obtain response\n",
        "!pip install -q -U google-genai"
      ],
      "metadata": {
        "id": "7fdoXfN6mjvy"
      },
      "execution_count": null,
      "outputs": []
    },
    {
      "cell_type": "code",
      "source": [
        "from google import genai\n",
        "\n",
        "gemini_api_key = \"\"\n",
        "\n",
        "client = genai.Client(api_key=gemini_api_key)\n",
        "\n",
        "respone = client.models.generate_content(model='gemini-2.0-flash', contents=prompt)\n",
        "\n",
        "print(respone.text)"
      ],
      "metadata": {
        "id": "JmXdufBUm3nq"
      },
      "execution_count": null,
      "outputs": []
    }
  ]
}